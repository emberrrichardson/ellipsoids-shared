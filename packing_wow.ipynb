{
 "cells": [
  {
   "cell_type": "code",
   "execution_count": 199,
   "id": "50a9e11d-7135-46a7-b4c3-197fd78c33c1",
   "metadata": {},
   "outputs": [],
   "source": [
    "import warnings\n",
    "warnings.filterwarnings('ignore')\n",
    "import hoomd\n",
    "import gsd\n",
    "import matplotlib.pyplot as plt\n",
    "import numpy as np\n",
    "import gsd.hoomd\n",
    "from flowermd.utils import get_target_box_number_density\n",
    "import unyt as u\n",
    "#sim_visualizer = FresnelGSD(\n",
    "    #gsd_file=\"trajectory.gsd\", frame=10, view_axis=(1, 1, 1))\n",
    "import hoomd\n",
    "from flowermd.base import Pack,Lattice, Simulation\n",
    "from flowermd.library import EllipsoidChain\n",
    "from flowermd.library import EllipsoidForcefield\n",
    "\n",
    "from flowermd.utils.constraints import create_rigid_ellipsoid_chain"
   ]
  },
  {
   "cell_type": "code",
   "execution_count": 200,
   "id": "04252548-6f65-4762-a096-eb46655d5acb",
   "metadata": {},
   "outputs": [],
   "source": [
    "\n",
    "ellipsoid_chain = EllipsoidChain(lengths=1,num_mols=129,lpar=1.0,bead_mass=1.0)\n",
    "system = Pack(molecules=ellipsoid_chain, density=.05*u.Unit(\"nm**-3\"), \n",
    "              packing_expand_factor=6,edge=2,overlap=1,fix_orientation=True)"
   ]
  },
  {
   "cell_type": "code",
   "execution_count": 201,
   "id": "dc80955b-e14c-4f5b-b367-6711397bbdc9",
   "metadata": {},
   "outputs": [],
   "source": [
    "ff = EllipsoidForcefield(epsilon=1.0,lpar=1.0,lperp=0.5,\n",
    "                         r_cut=3,bond_r0=0)"
   ]
  },
  {
   "cell_type": "code",
   "execution_count": 202,
   "id": "da1b29d7-10f5-487d-ad5e-745913be1613",
   "metadata": {},
   "outputs": [],
   "source": [
    "rigid_frame, rigid = create_rigid_ellipsoid_chain(system.hoomd_snapshot)"
   ]
  },
  {
   "cell_type": "code",
   "execution_count": null,
   "id": "00567e82-5421-4fd9-abf4-079cca218940",
   "metadata": {},
   "outputs": [
    {
     "name": "stdout",
     "output_type": "stream",
     "text": [
      "Initializing simulation state from a gsd.hoomd.Frame.\n",
      "Step 1000 of 10000; TPS: 1669.25; ETA: 0.1 minutes\n",
      "Step 2000 of 10000; TPS: 2478.28; ETA: 0.1 minutes\n",
      "Step 3000 of 10000; TPS: 2958.98; ETA: 0.0 minutes\n",
      "Step 4000 of 10000; TPS: 3322.0; ETA: 0.0 minutes\n",
      "Step 5000 of 10000; TPS: 3542.07; ETA: 0.0 minutes\n",
      "Step 6000 of 10000; TPS: 3721.82; ETA: 0.0 minutes\n",
      "Step 7000 of 10000; TPS: 3832.55; ETA: 0.0 minutes\n",
      "Step 8000 of 10000; TPS: 3796.39; ETA: 0.0 minutes\n",
      "Step 9000 of 10000; TPS: 3468.83; ETA: 0.0 minutes\n"
     ]
    }
   ],
   "source": [
    "gsd_path=('ellipsoid-chain-2mer.gsd')\n",
    "ellipsoid_sim = Simulation(\n",
    "    initial_state=rigid_frame,\n",
    "    forcefield=ff.hoomd_forces,\n",
    "    constraint=rigid,\n",
    "    dt=0.0001,\n",
    "    gsd_write_freq=(1000),\n",
    "    gsd_file_name=gsd_path,\n",
    "    log_write_freq=(1000),\n",
    "    log_file_name='elliops_log.txt')\n",
    "\n",
    "target_box = get_target_box_number_density(density=.4*u.Unit(\"nm**-3\"),n_beads=129)\n",
    "ellipsoid_sim.run_update_volume(final_box_lengths=target_box, kT=5, n_steps=1e4,tau_kt=3*ellipsoid_sim.dt,\n",
    "                                period=5,thermalize_particles=True)\n",
    "print(\"shrink finished\")\n",
    "#sim_visualizer.view()\n",
    "ellipsoid_sim.run_NVT(n_steps=1e5, kT=4, tau_kt=3*ellipsoid_sim.dt)\n",
    "#ellipsoid_sim.save_restart_gsd(\"restart.gsd\")\n",
    "ellipsoid_sim.flush_writers()\n",
    "#ellipsoid_sim.save_simulation(\"sim.pickle\")\n"
   ]
  },
  {
   "cell_type": "code",
   "execution_count": null,
   "id": "ef05e059-8251-4277-9f2f-c79350d936b9",
   "metadata": {},
   "outputs": [],
   "source": [
    "def ellipsoid_gsd(gsd_file, new_file, ellipsoid_types, lpar, lperp):\n",
    "    with gsd.hoomd.open(new_file, \"w\") as new_t:\n",
    "        with gsd.hoomd.open(gsd_file) as old_t:\n",
    "            for snap in old_t:\n",
    "                shape_dicts_list = []\n",
    "                for ptype in snap.particles.types:\n",
    "                    if ptype == ellipsoid_types or ptype in ellipsoid_types:\n",
    "                        shapes_dict = {\n",
    "                            \"type\": \"Ellipsoid\",\n",
    "                            \"a\": lpar,\n",
    "                            \"b\": lperp,\n",
    "                            \"c\": lperp,\n",
    "                        }\n",
    "                    else:\n",
    "                        shapes_dict = {\"type\": \"Sphere\", \"diameter\": 0.001}\n",
    "                    shape_dicts_list.append(shapes_dict)\n",
    "                snap.particles.type_shapes = shape_dicts_list\n",
    "                snap.validate()\n",
    "                new_t.append(snap)\n"
   ]
  },
  {
   "cell_type": "code",
   "execution_count": null,
   "id": "7d020b0a-ebd6-4090-a31b-7eb5bbccab4a",
   "metadata": {},
   "outputs": [],
   "source": [
    "\n",
    "ellipsoid_gsd(gsd_file=gsd_path,new_file=\"highshrink.gsd\",lpar=1.0,lperp=0.5, ellipsoid_types=\"R\")"
   ]
  },
  {
   "cell_type": "code",
   "execution_count": null,
   "id": "6f625a21-965f-43ca-82d9-902b12a74f5d",
   "metadata": {},
   "outputs": [],
   "source": [
    "sim_data = np.genfromtxt(\"sim_data.txt\", names=True)\n",
    "PotentialEnergy = sim_data[\"mdcomputeThermodynamicQuantitiespotential_energy\"]\n",
    "Time = sim_data[\"flowermdbasesimulationSimulationtimestep\"]\n",
    "x= Time\n",
    "y= PotentialEnergy\n",
    "plt.plot(x,y)\n",
    "plt.xlabel('Time')\n",
    "plt.ylabel('PotentialEnergy')"
   ]
  },
  {
   "cell_type": "code",
   "execution_count": null,
   "id": "5a0405f0-75ae-42b1-8f72-f859977ef585",
   "metadata": {},
   "outputs": [],
   "source": []
  },
  {
   "cell_type": "code",
   "execution_count": null,
   "id": "747e409c-c978-4631-b594-e44e809add34",
   "metadata": {},
   "outputs": [],
   "source": []
  }
 ],
 "metadata": {
  "kernelspec": {
   "display_name": "Python 3 (ipykernel)",
   "language": "python",
   "name": "python3"
  },
  "language_info": {
   "codemirror_mode": {
    "name": "ipython",
    "version": 3
   },
   "file_extension": ".py",
   "mimetype": "text/x-python",
   "name": "python",
   "nbconvert_exporter": "python",
   "pygments_lexer": "ipython3",
   "version": "3.12.0"
  }
 },
 "nbformat": 4,
 "nbformat_minor": 5
}
